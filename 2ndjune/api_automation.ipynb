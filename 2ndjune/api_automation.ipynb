{
 "cells": [
  {
   "cell_type": "code",
   "execution_count": null,
   "id": "9c04ce0e",
   "metadata": {},
   "outputs": [],
   "source": [
    "#program to do apiu calls and json parsing. api calls are waiters they take our menu or requests , contact the server and bring back results. Here results would be in json format"
   ]
  },
  {
   "cell_type": "code",
   "execution_count": null,
   "id": "ccbb181b",
   "metadata": {},
   "outputs": [],
   "source": [
    "import requests  # to make HTTP requests"
   ]
  },
  {
   "cell_type": "code",
   "execution_count": null,
   "id": "812a138d",
   "metadata": {},
   "outputs": [],
   "source": [
    "# Step 1: Make a request to an API\n",
    "response = requests.get(\"https://api.agify.io/?name=michael\")\n"
   ]
  },
  {
   "cell_type": "code",
   "execution_count": null,
   "id": "c01593be",
   "metadata": {},
   "outputs": [],
   "source": [
    "\n",
    "# Step 2: Parse the JSON response\n",
    "data = response.json()"
   ]
  },
  {
   "cell_type": "code",
   "execution_count": null,
   "id": "88fb18d3",
   "metadata": {},
   "outputs": [],
   "source": [
    "# Step 3: Print the result\n",
    "print(\"Name:\", data[\"name\"])\n",
    "print(\"Predicted Age:\", data[\"age\"])"
   ]
  }
 ],
 "metadata": {
  "language_info": {
   "name": "python"
  }
 },
 "nbformat": 4,
 "nbformat_minor": 5
}
