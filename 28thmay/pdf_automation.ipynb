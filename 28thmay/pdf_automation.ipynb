{
 "cells": [
  {
   "cell_type": "code",
   "execution_count": 31,
   "id": "e08ff3d5",
   "metadata": {},
   "outputs": [],
   "source": [
    "#to create a python program to automate the common pdf operations like merging"
   ]
  },
  {
   "cell_type": "code",
   "execution_count": 32,
   "id": "9939bedc",
   "metadata": {},
   "outputs": [
    {
     "data": {
      "text/plain": [
       "'c:\\\\Users\\\\USER\\\\OneDrive\\\\daily_python\\\\28thmay'"
      ]
     },
     "execution_count": 32,
     "metadata": {},
     "output_type": "execute_result"
    }
   ],
   "source": [
    "from reportlab.lib.pagesizes import letter\n",
    "from reportlab.pdfgen import canvas  \n",
    "from os import getcwd\n",
    "getcwd()"
   ]
  },
  {
   "cell_type": "code",
   "execution_count": 33,
   "id": "a20e0b6f",
   "metadata": {},
   "outputs": [],
   "source": [
    "#creating first pdf\n",
    "pdf_canvas = canvas.Canvas(\"new_document1.pdf\", pagesize=letter)\n",
    "pdf_canvas.drawString(100, 750, \"Hello, world!\")\n",
    "pdf_canvas.save() "
   ]
  },
  {
   "cell_type": "code",
   "execution_count": 34,
   "id": "886062a8",
   "metadata": {},
   "outputs": [],
   "source": [
    "#creating second pdf\n",
    "pdf_canvas = canvas.Canvas(\"new_document2.pdf\", pagesize=letter)\n",
    "pdf_canvas.drawString(100, 750, \"Hello, world!\")\n",
    "pdf_canvas.save() "
   ]
  },
  {
   "cell_type": "code",
   "execution_count": 35,
   "id": "72820664",
   "metadata": {},
   "outputs": [],
   "source": [
    "# import fitz  # PyMuPDF\n",
    "\n",
    "# def merge_pdfs_pymupdf(pdf_files, output_path):\n",
    "#     doc = fitz.open()\n",
    "#     for pdf_file in pdf_files:\n",
    "#         doc.insert_file(pdf_file)\n",
    "#     doc.save(output_path)\n",
    "#     doc.close()\n",
    "\n",
    "\n",
    "pdf_directory = \".\"\n",
    "# pdf_files = [f for f in os.listdir(pdf_directory) if f.endswith(\".pdf\")]\n",
    "# output_pdf = \"merged.pdf\"\n",
    "# merge_pdfs_pymupdf(pdf_files, output_pdf)\n",
    "# print(f\"Merged PDFs saved to {output_pdf}\")\n",
    "\n",
    "# import os\n",
    "import fitz\n",
    "\n",
    "result = fitz.open()\n",
    "pdf_files = [f for f in os.listdir(pdf_directory) if f.endswith(\".pdf\")]\n",
    "for pdf in pdf_files:\n",
    "    with fitz.open(pdf) as mfile:\n",
    "        result.insert_pdf(mfile)\n",
    "    \n",
    "result.save(\"result.pdf\")"
   ]
  },
  {
   "cell_type": "code",
   "execution_count": null,
   "id": "8eb3fa4b",
   "metadata": {},
   "outputs": [],
   "source": []
  },
  {
   "cell_type": "code",
   "execution_count": 36,
   "id": "f05802e8",
   "metadata": {},
   "outputs": [],
   "source": [
    "import pypdf"
   ]
  },
  {
   "cell_type": "code",
   "execution_count": 37,
   "id": "d71835f4",
   "metadata": {},
   "outputs": [
    {
     "name": "stdout",
     "output_type": "stream",
     "text": [
      "Page 1:\n",
      "Hello, world!\n",
      "\n",
      "---\n",
      "Page 2:\n",
      "Hello, world!\n",
      "\n",
      "---\n",
      "Page 3:\n",
      " \n",
      "                                       \n",
      "Jan  Feb  Mar  Apr  May  Jun  Jul  Aug  Sep  Oct  Nov  Dec  \n",
      "100  3000  200  40  4532  353  5  66  325  5433  897  324  \n",
      "---\n",
      "Page 4:\n",
      "  \n",
      "     \n",
      "Jan  Feb  Mar  Apr  May  Jun  Jul  Aug  Sep  Oct  Nov  Dec  \n",
      "221  546  768  453  456  858  678  543  654  65  68  987  \n",
      "---\n",
      "Page 5:\n",
      "Hello, world!\n",
      "\n",
      "---\n",
      "Page 6:\n",
      "Hello, world!\n",
      "\n",
      "---\n",
      "Page 7:\n",
      " \n",
      "                                       \n",
      "Jan  Feb  Mar  Apr  May  Jun  Jul  Aug  Sep  Oct  Nov  Dec  \n",
      "100  3000  200  40  4532  353  5  66  325  5433  897  324  \n",
      "---\n",
      "Page 8:\n",
      "  \n",
      "     \n",
      "Jan  Feb  Mar  Apr  May  Jun  Jul  Aug  Sep  Oct  Nov  Dec  \n",
      "221  546  768  453  456  858  678  543  654  65  68  987  \n",
      "---\n",
      "Page 9:\n",
      "Hello, world!\n",
      "\n",
      "---\n",
      "Page 10:\n",
      "Hello, world!\n",
      "\n",
      "---\n"
     ]
    }
   ],
   "source": [
    "    \n",
    "with open('result.pdf', 'rb') as file:\n",
    "    reader = pypdf.PdfReader(file)\n",
    "    num_pages = len(reader.pages)\n",
    "    \n",
    "    for page_num in range(num_pages):\n",
    "        page = reader.pages[page_num]\n",
    "        text = page.extract_text()\n",
    "        print(f\"Page {page_num + 1}:\\n{text}\\n---\")"
   ]
  },
  {
   "cell_type": "code",
   "execution_count": 1,
   "id": "862adcf3",
   "metadata": {},
   "outputs": [
    {
     "name": "stderr",
     "output_type": "stream",
     "text": [
      "CropBox missing from /Page, defaulting to MediaBox\n",
      "CropBox missing from /Page, defaulting to MediaBox\n",
      "CropBox missing from /Page, defaulting to MediaBox\n",
      "CropBox missing from /Page, defaulting to MediaBox\n"
     ]
    },
    {
     "name": "stdout",
     "output_type": "stream",
     "text": [
      "Saved table_1.csv\n",
      "Saved table_2.csv\n"
     ]
    }
   ],
   "source": [
    "import pdfplumber\n",
    "import pandas as pd\n",
    "\n",
    "all_tables = []\n",
    "\n",
    "with pdfplumber.open(\"pdf_extract.pdf\") as pdf:\n",
    "    for page in pdf.pages:\n",
    "        tables = page.extract_tables()\n",
    "        for table in tables:\n",
    "            if table:  # filter out empty ones\n",
    "                df = pd.DataFrame(table[1:], columns=table[0])\n",
    "                all_tables.append(df)\n",
    "\n",
    "# Save each table to a separate CSV file\n",
    "for i, df in enumerate(all_tables, start=1):\n",
    "    df.to_csv(f\"table_{i}.csv\", index=False)\n",
    "    print(f\"Saved table_{i}.csv\")\n",
    "\n",
    "# Optional: Combine all tables\n",
    "combined = pd.concat(all_tables)\n",
    "combined.to_csv(\"combined_tables.csv\", index=False)"
   ]
  },
  {
   "cell_type": "code",
   "execution_count": 2,
   "id": "eeefc363",
   "metadata": {},
   "outputs": [
    {
     "name": "stdout",
     "output_type": "stream",
     "text": [
      "   Jan   Feb  Mar  Apr   May  Jun  Jul  Aug  Sep   Oct  Nov  Dec\n",
      "0  100  3000  200   40  4532  353    5   66  325  5433  897  324\n"
     ]
    }
   ],
   "source": [
    "import pandas as pd\n",
    "\n",
    "df = pd.read_csv('table_1.csv')\n",
    "\n",
    "print(df.to_string()) "
   ]
  },
  {
   "cell_type": "code",
   "execution_count": 3,
   "id": "633d209d",
   "metadata": {},
   "outputs": [
    {
     "name": "stdout",
     "output_type": "stream",
     "text": [
      "   Jan  Feb  Mar  Apr  May  Jun  Jul  Aug  Sep  Oct  Nov  Dec\n",
      "0  221  546  768  453  456  858  678  543  654   65   68  987\n"
     ]
    }
   ],
   "source": [
    "import pandas as pd\n",
    "\n",
    "df = pd.read_csv('table_2.csv')\n",
    "\n",
    "print(df.to_string()) "
   ]
  },
  {
   "cell_type": "code",
   "execution_count": 4,
   "id": "bd5debed",
   "metadata": {},
   "outputs": [
    {
     "name": "stdout",
     "output_type": "stream",
     "text": [
      "   Jan   Feb  Mar  Apr   May  Jun  Jul  Aug  Sep   Oct  Nov  Dec\n",
      "0  100  3000  200   40  4532  353    5   66  325  5433  897  324\n",
      "1  221   546  768  453   456  858  678  543  654    65   68  987\n"
     ]
    }
   ],
   "source": [
    "import pandas as pd\n",
    "\n",
    "df = pd.read_csv('combined_tables.csv')\n",
    "\n",
    "print(df.to_string()) "
   ]
  }
 ],
 "metadata": {
  "kernelspec": {
   "display_name": "Python 3",
   "language": "python",
   "name": "python3"
  },
  "language_info": {
   "codemirror_mode": {
    "name": "ipython",
    "version": 3
   },
   "file_extension": ".py",
   "mimetype": "text/x-python",
   "name": "python",
   "nbconvert_exporter": "python",
   "pygments_lexer": "ipython3",
   "version": "3.13.2"
  }
 },
 "nbformat": 4,
 "nbformat_minor": 5
}
